{
  "nbformat": 4,
  "nbformat_minor": 0,
  "metadata": {
    "colab": {
      "name": "LSTM_univariate.ipynb",
      "provenance": [],
      "collapsed_sections": []
    },
    "kernelspec": {
      "name": "python3",
      "display_name": "Python 3"
    },
    "language_info": {
      "name": "python"
    }
  },
  "cells": [
    {
      "cell_type": "markdown",
      "metadata": {
        "id": "D9svXw8ZKIA9"
      },
      "source": [
        "LSTM \n",
        "\n",
        "Univariate"
      ]
    },
    {
      "cell_type": "code",
      "metadata": {
        "colab": {
          "base_uri": "https://localhost:8080/"
        },
        "id": "yyJDcA1AJfEE",
        "outputId": "e7d45765-44a4-4e88-de53-fb67bbf419c5"
      },
      "source": [
        "#Mount Drive\n",
        "from google.colab import drive \n",
        "drive.mount('/content/drive')"
      ],
      "execution_count": 17,
      "outputs": [
        {
          "output_type": "stream",
          "text": [
            "Drive already mounted at /content/drive; to attempt to forcibly remount, call drive.mount(\"/content/drive\", force_remount=True).\n"
          ],
          "name": "stdout"
        }
      ]
    },
    {
      "cell_type": "code",
      "metadata": {
        "id": "lJoO_i5gNlKX"
      },
      "source": [
        "#Import Libraries\n",
        "import numpy as np\n",
        "import matplotlib.pyplot as plt\n",
        "import pandas as pd\n",
        "import math\n",
        "from sklearn.preprocessing import MinMaxScaler\n",
        "from sklearn.metrics import mean_squared_error\n",
        "from keras.models import Sequential\n",
        "from keras.layers import Dense\n",
        "from keras.layers import LSTM"
      ],
      "execution_count": 18,
      "outputs": []
    },
    {
      "cell_type": "code",
      "metadata": {
        "colab": {
          "base_uri": "https://localhost:8080/",
          "height": 419
        },
        "id": "VfRXP2XXTJVQ",
        "outputId": "4b8af899-e429-4bd3-e602-3a15e862500c"
      },
      "source": [
        "#See the data\n",
        "dataframe = pd.read_csv('/content/drive/MyDrive/train_csv.csv', usecols=[2], engine='python')\n",
        "dataset = dataframe.values\n",
        "dataframe"
      ],
      "execution_count": 19,
      "outputs": [
        {
          "output_type": "execute_result",
          "data": {
            "text/html": [
              "<div>\n",
              "<style scoped>\n",
              "    .dataframe tbody tr th:only-of-type {\n",
              "        vertical-align: middle;\n",
              "    }\n",
              "\n",
              "    .dataframe tbody tr th {\n",
              "        vertical-align: top;\n",
              "    }\n",
              "\n",
              "    .dataframe thead th {\n",
              "        text-align: right;\n",
              "    }\n",
              "</style>\n",
              "<table border=\"1\" class=\"dataframe\">\n",
              "  <thead>\n",
              "    <tr style=\"text-align: right;\">\n",
              "      <th></th>\n",
              "      <th>feature</th>\n",
              "    </tr>\n",
              "  </thead>\n",
              "  <tbody>\n",
              "    <tr>\n",
              "      <th>0</th>\n",
              "      <td>237.97</td>\n",
              "    </tr>\n",
              "    <tr>\n",
              "      <th>1</th>\n",
              "      <td>57.93</td>\n",
              "    </tr>\n",
              "    <tr>\n",
              "      <th>2</th>\n",
              "      <td>90.53</td>\n",
              "    </tr>\n",
              "    <tr>\n",
              "      <th>3</th>\n",
              "      <td>260.75</td>\n",
              "    </tr>\n",
              "    <tr>\n",
              "      <th>4</th>\n",
              "      <td>49.70</td>\n",
              "    </tr>\n",
              "    <tr>\n",
              "      <th>...</th>\n",
              "      <td>...</td>\n",
              "    </tr>\n",
              "    <tr>\n",
              "      <th>75</th>\n",
              "      <td>469.72</td>\n",
              "    </tr>\n",
              "    <tr>\n",
              "      <th>76</th>\n",
              "      <td>406.79</td>\n",
              "    </tr>\n",
              "    <tr>\n",
              "      <th>77</th>\n",
              "      <td>128.91</td>\n",
              "    </tr>\n",
              "    <tr>\n",
              "      <th>78</th>\n",
              "      <td>85.28</td>\n",
              "    </tr>\n",
              "    <tr>\n",
              "      <th>79</th>\n",
              "      <td>121.12</td>\n",
              "    </tr>\n",
              "  </tbody>\n",
              "</table>\n",
              "<p>80 rows × 1 columns</p>\n",
              "</div>"
            ],
            "text/plain": [
              "    feature\n",
              "0    237.97\n",
              "1     57.93\n",
              "2     90.53\n",
              "3    260.75\n",
              "4     49.70\n",
              "..      ...\n",
              "75   469.72\n",
              "76   406.79\n",
              "77   128.91\n",
              "78    85.28\n",
              "79   121.12\n",
              "\n",
              "[80 rows x 1 columns]"
            ]
          },
          "metadata": {
            "tags": []
          },
          "execution_count": 19
        }
      ]
    },
    {
      "cell_type": "code",
      "metadata": {
        "colab": {
          "base_uri": "https://localhost:8080/"
        },
        "id": "aFH5Fta9TFid",
        "outputId": "6a837fb4-d1d2-445a-bb51-c118f56bce55"
      },
      "source": [
        "# MinMax scaling for 0 to 1\n",
        "scaler = MinMaxScaler(feature_range=(0, 1))\n",
        "dataset = scaler.fit_transform(dataset)\n",
        "len(dataset)"
      ],
      "execution_count": 20,
      "outputs": [
        {
          "output_type": "execute_result",
          "data": {
            "text/plain": [
              "80"
            ]
          },
          "metadata": {
            "tags": []
          },
          "execution_count": 20
        }
      ]
    },
    {
      "cell_type": "code",
      "metadata": {
        "colab": {
          "base_uri": "https://localhost:8080/"
        },
        "id": "2UBSGjD0VmDs",
        "outputId": "8dd23de5-87ba-4a6c-9a06-4e44136a4976"
      },
      "source": [
        "# splitting the 80% training and 20% testing\n",
        "train_size = int(len(dataset) * 0.8)\n",
        "test_size = len(dataset) - train_size\n",
        "train, test = dataset[0:train_size,:], dataset[train_size:len(dataset),:]\n",
        "print(len(train), len(test))"
      ],
      "execution_count": 21,
      "outputs": [
        {
          "output_type": "stream",
          "text": [
            "64 16\n"
          ],
          "name": "stdout"
        }
      ]
    },
    {
      "cell_type": "code",
      "metadata": {
        "id": "TLlm4uS7Vs_I"
      },
      "source": [
        "# function for pre processing data for RNN.\n",
        "def create_dataset(dataset, no_seq=1):\n",
        "    dataX, dataY = [], []\n",
        "    for i in range(len(dataset)-no_seq-1):\n",
        "        a = dataset[i:(i+no_seq), 0]\n",
        "        dataX.append(a)\n",
        "        dataY.append(dataset[i + no_seq, 0])\n",
        "    return np.array(dataX), np.array(dataY)"
      ],
      "execution_count": 22,
      "outputs": []
    },
    {
      "cell_type": "code",
      "metadata": {
        "colab": {
          "base_uri": "https://localhost:8080/"
        },
        "id": "Ee4yyQMrVzxA",
        "outputId": "79fc6aa6-a599-4c9b-9389-ce2a6342f604"
      },
      "source": [
        "# with number of sequence=1, splitting of data takes place. \n",
        "no_seq = 1\n",
        "trainX, trainY = create_dataset(train, no_seq)\n",
        "testX, testY = create_dataset(test, no_seq)\n",
        "print(len(trainX),len(trainY))\n",
        "print(len(testX),len(testY))"
      ],
      "execution_count": 23,
      "outputs": [
        {
          "output_type": "stream",
          "text": [
            "62 62\n",
            "14 14\n"
          ],
          "name": "stdout"
        }
      ]
    },
    {
      "cell_type": "code",
      "metadata": {
        "id": "OTosYpaNX2Fk"
      },
      "source": [
        "#Reshape dataset\n",
        "trainX = np.reshape(trainX, (trainX.shape[0], 1, trainX.shape[1]))\n",
        "testX = np.reshape(testX, (testX.shape[0], 1, testX.shape[1]))"
      ],
      "execution_count": 24,
      "outputs": []
    },
    {
      "cell_type": "code",
      "metadata": {
        "id": "w3ksTYnbVz0m"
      },
      "source": [
        "#Make Model\n",
        "\n",
        "model = Sequential()\n",
        "\n",
        "model.add(LSTM(units=50, return_sequences=True,input_shape=(1, no_seq)))\n",
        "model.add(LSTM(units=50, return_sequences=False))\n",
        "model.add(Dense(units=25))\n",
        "model.add(Dense(units=1))\n",
        "model.save(\"univariate.h5\")"
      ],
      "execution_count": 25,
      "outputs": []
    },
    {
      "cell_type": "code",
      "metadata": {
        "id": "PNhNKngJVz3j"
      },
      "source": [
        "#compile\n",
        "model.compile(loss='mean_squared_error', optimizer='adam')"
      ],
      "execution_count": 26,
      "outputs": []
    },
    {
      "cell_type": "code",
      "metadata": {
        "colab": {
          "base_uri": "https://localhost:8080/"
        },
        "id": "OBTGgKHoXbB2",
        "outputId": "f4971200-2347-42df-b2fb-ff475342765f"
      },
      "source": [
        "#Evaluation, replace with 1, if you want to display the epoch\n",
        "model.fit(trainX, trainY, epochs=50, batch_size=32, verbose=1)"
      ],
      "execution_count": 27,
      "outputs": [
        {
          "output_type": "stream",
          "text": [
            "Epoch 1/50\n",
            "2/2 [==============================] - 4s 10ms/step - loss: 0.0930\n",
            "Epoch 2/50\n",
            "2/2 [==============================] - 0s 7ms/step - loss: 0.0917\n",
            "Epoch 3/50\n",
            "2/2 [==============================] - 0s 8ms/step - loss: 0.0752\n",
            "Epoch 4/50\n",
            "2/2 [==============================] - 0s 8ms/step - loss: 0.0695\n",
            "Epoch 5/50\n",
            "2/2 [==============================] - 0s 7ms/step - loss: 0.0695\n",
            "Epoch 6/50\n",
            "2/2 [==============================] - 0s 8ms/step - loss: 0.0549\n",
            "Epoch 7/50\n",
            "2/2 [==============================] - 0s 6ms/step - loss: 0.0507\n",
            "Epoch 8/50\n",
            "2/2 [==============================] - 0s 8ms/step - loss: 0.0441\n",
            "Epoch 9/50\n",
            "2/2 [==============================] - 0s 6ms/step - loss: 0.0403\n",
            "Epoch 10/50\n",
            "2/2 [==============================] - 0s 21ms/step - loss: 0.0367\n",
            "Epoch 11/50\n",
            "2/2 [==============================] - 0s 7ms/step - loss: 0.0338\n",
            "Epoch 12/50\n",
            "2/2 [==============================] - 0s 8ms/step - loss: 0.0345\n",
            "Epoch 13/50\n",
            "2/2 [==============================] - 0s 8ms/step - loss: 0.0372\n",
            "Epoch 14/50\n",
            "2/2 [==============================] - 0s 8ms/step - loss: 0.0359\n",
            "Epoch 15/50\n",
            "2/2 [==============================] - 0s 7ms/step - loss: 0.0394\n",
            "Epoch 16/50\n",
            "2/2 [==============================] - 0s 15ms/step - loss: 0.0387\n",
            "Epoch 17/50\n",
            "2/2 [==============================] - 0s 13ms/step - loss: 0.0364\n",
            "Epoch 18/50\n",
            "2/2 [==============================] - 0s 10ms/step - loss: 0.0360\n",
            "Epoch 19/50\n",
            "2/2 [==============================] - 0s 8ms/step - loss: 0.0370\n",
            "Epoch 20/50\n",
            "2/2 [==============================] - 0s 7ms/step - loss: 0.0349\n",
            "Epoch 21/50\n",
            "2/2 [==============================] - 0s 8ms/step - loss: 0.0333\n",
            "Epoch 22/50\n",
            "2/2 [==============================] - 0s 7ms/step - loss: 0.0338\n",
            "Epoch 23/50\n",
            "2/2 [==============================] - 0s 10ms/step - loss: 0.0366\n",
            "Epoch 24/50\n",
            "2/2 [==============================] - 0s 13ms/step - loss: 0.0349\n",
            "Epoch 25/50\n",
            "2/2 [==============================] - 0s 8ms/step - loss: 0.0359\n",
            "Epoch 26/50\n",
            "2/2 [==============================] - 0s 7ms/step - loss: 0.0346\n",
            "Epoch 27/50\n",
            "2/2 [==============================] - 0s 8ms/step - loss: 0.0341\n",
            "Epoch 28/50\n",
            "2/2 [==============================] - 0s 11ms/step - loss: 0.0367\n",
            "Epoch 29/50\n",
            "2/2 [==============================] - 0s 12ms/step - loss: 0.0358\n",
            "Epoch 30/50\n",
            "2/2 [==============================] - 0s 7ms/step - loss: 0.0349\n",
            "Epoch 31/50\n",
            "2/2 [==============================] - 0s 8ms/step - loss: 0.0353\n",
            "Epoch 32/50\n",
            "2/2 [==============================] - 0s 9ms/step - loss: 0.0377\n",
            "Epoch 33/50\n",
            "2/2 [==============================] - 0s 13ms/step - loss: 0.0336\n",
            "Epoch 34/50\n",
            "2/2 [==============================] - 0s 11ms/step - loss: 0.0372\n",
            "Epoch 35/50\n",
            "2/2 [==============================] - 0s 10ms/step - loss: 0.0361\n",
            "Epoch 36/50\n",
            "2/2 [==============================] - 0s 11ms/step - loss: 0.0364\n",
            "Epoch 37/50\n",
            "2/2 [==============================] - 0s 9ms/step - loss: 0.0360\n",
            "Epoch 38/50\n",
            "2/2 [==============================] - 0s 7ms/step - loss: 0.0376\n",
            "Epoch 39/50\n",
            "2/2 [==============================] - 0s 8ms/step - loss: 0.0349\n",
            "Epoch 40/50\n",
            "2/2 [==============================] - 0s 8ms/step - loss: 0.0356\n",
            "Epoch 41/50\n",
            "2/2 [==============================] - 0s 9ms/step - loss: 0.0342\n",
            "Epoch 42/50\n",
            "2/2 [==============================] - 0s 9ms/step - loss: 0.0340\n",
            "Epoch 43/50\n",
            "2/2 [==============================] - 0s 10ms/step - loss: 0.0341\n",
            "Epoch 44/50\n",
            "2/2 [==============================] - 0s 8ms/step - loss: 0.0344\n",
            "Epoch 45/50\n",
            "2/2 [==============================] - 0s 7ms/step - loss: 0.0362\n",
            "Epoch 46/50\n",
            "2/2 [==============================] - 0s 12ms/step - loss: 0.0359\n",
            "Epoch 47/50\n",
            "2/2 [==============================] - 0s 6ms/step - loss: 0.0344\n",
            "Epoch 48/50\n",
            "2/2 [==============================] - 0s 5ms/step - loss: 0.0333\n",
            "Epoch 49/50\n",
            "2/2 [==============================] - 0s 6ms/step - loss: 0.0333\n",
            "Epoch 50/50\n",
            "2/2 [==============================] - 0s 5ms/step - loss: 0.0367\n"
          ],
          "name": "stdout"
        },
        {
          "output_type": "execute_result",
          "data": {
            "text/plain": [
              "<tensorflow.python.keras.callbacks.History at 0x7fac237cf950>"
            ]
          },
          "metadata": {
            "tags": []
          },
          "execution_count": 27
        }
      ]
    },
    {
      "cell_type": "code",
      "metadata": {
        "colab": {
          "base_uri": "https://localhost:8080/",
          "height": 281
        },
        "id": "YnHm6NLSVtFi",
        "outputId": "9b2902db-0c76-4549-e2ec-818fe671161d"
      },
      "source": [
        "#show the graph of loss function\n",
        "plt.title('Loss')\n",
        "plt.plot(model.history.history['loss'], label='loss value')\n",
        "plt.legend()\n",
        "plt.show()"
      ],
      "execution_count": 28,
      "outputs": [
        {
          "output_type": "display_data",
          "data": {
            "image/png": "[encoded data removed]",
            "text/plain": [
              "<Figure size 432x288 with 1 Axes>"
            ]
          },
          "metadata": {
            "tags": [],
            "needs_background": "light"
          }
        }
      ]
    },
    {
      "cell_type": "code",
      "metadata": {
        "colab": {
          "base_uri": "https://localhost:8080/",
          "height": 299
        },
        "id": "mcxb9X0oWaCX",
        "outputId": "95205574-c209-4007-bd9a-c89029ac1dbc"
      },
      "source": [
        "#Prediction use RSME\n",
        "trainPredict = model.predict(trainX)\n",
        "testPredict = model.predict(testX)\n",
        "\n",
        "trainPredict = scaler.inverse_transform(trainPredict)\n",
        "trainY = scaler.inverse_transform([trainY])\n",
        "testPredict = scaler.inverse_transform(testPredict)\n",
        "testY = scaler.inverse_transform([testY])\n",
        "\n",
        "trainScore = math.sqrt(mean_squared_error(trainY[0], trainPredict[:,0]))\n",
        "print('Train Score: %.2f RMSE' % (trainScore))\n",
        "testScore = math.sqrt(mean_squared_error(testY[0], testPredict[:,0]))\n",
        "print('Test Score: %.2f RMSE' % (testScore))\n",
        "\n",
        "trainPredictPlot = np.empty_like(dataset)\n",
        "trainPredictPlot[:, :] = np.nan\n",
        "trainPredictPlot[no_seq:len(trainPredict)+no_seq, :] = trainPredict\n",
        "testPredictPlot = np.empty_like(dataset)\n",
        "testPredictPlot[:, :] = np.nan\n",
        "testPredictPlot[len(trainPredict)+(no_seq*2)+1:len(dataset)-1, :] = testPredict\n",
        "plt.plot(scaler.inverse_transform(dataset))\n",
        "plt.plot(trainPredictPlot)\n",
        "plt.plot(testPredictPlot)\n",
        "plt.show()"
      ],
      "execution_count": 29,
      "outputs": [
        {
          "output_type": "stream",
          "text": [
            "Train Score: 83.71 RMSE\n",
            "Test Score: 122.84 RMSE\n"
          ],
          "name": "stdout"
        },
        {
          "output_type": "display_data",
          "data": {
            "image/png": "[encoded data removed]",
            "text/plain": [
              "<Figure size 432x288 with 1 Axes>"
            ]
          },
          "metadata": {
            "tags": [],
            "needs_background": "light"
          }
        }
      ]
    },
    {
      "cell_type": "code",
      "metadata": {
        "colab": {
          "base_uri": "https://localhost:8080/"
        },
        "id": "KND6CPSvWacw",
        "outputId": "d1279d9c-4336-4cf7-c918-c2211be6e39b"
      },
      "source": [
        "#Predict Future\n",
        "inference_data = pd.read_csv('/content/drive/MyDrive/test_csv.csv')\n",
        "\n",
        "No_test_data = len(inference_data)\n",
        "\n",
        "# Number of features to be found.\n",
        "print(No_test_data)"
      ],
      "execution_count": 30,
      "outputs": [
        {
          "output_type": "stream",
          "text": [
            "40\n"
          ],
          "name": "stdout"
        }
      ]
    },
    {
      "cell_type": "code",
      "metadata": {
        "colab": {
          "base_uri": "https://localhost:8080/"
        },
        "id": "AMt1k1tzWafG",
        "outputId": "0391cd15-0439-4f30-aad7-daf93417cd98"
      },
      "source": [
        "# Prediction taking the last dataset of train and predicting the rest 39 features.\n",
        "\n",
        "for i in range(79, 79+No_test_data):\n",
        "    \n",
        "    # last day of the training dataset.\n",
        "    if i == 79:\n",
        "        last_day = dataframe[i:i+1].values\n",
        "        last_day = scaler.transform(last_day)\n",
        "        X_test = []\n",
        "        X_test.append(last_day)\n",
        "        X_test = np.array(X_test)\n",
        "        X_test = np.reshape(X_test, (X_test.shape[0], X_test.shape[1], 1))\n",
        "        pred_price = model.predict(X_test)\n",
        "        pred_price = scaler.inverse_transform(pred_price)\n",
        "        print(pred_price)\n",
        "        \n",
        "    # rest 39 features.   \n",
        "    else:\n",
        "        last_day = pred_value\n",
        "        last_day = scaler.transform(last_day)\n",
        "        X_test = []\n",
        "        X_test.append(last_day)\n",
        "        X_test = np.array(X_test)\n",
        "        X_test = np.reshape(X_test, (X_test.shape[0], X_test.shape[1], 1))\n",
        "        pred_price = model.predict(X_test)\n",
        "        pred_price = scaler.inverse_transform(pred_price)\n",
        "        print(pred_price)\n",
        "        \n",
        "    # replacing the old prediction value with new for next feature prediction.\n",
        "    pred_value = pred_price"
      ],
      "execution_count": 31,
      "outputs": [
        {
          "output_type": "stream",
          "text": [
            "[[132.47867]]\n",
            "[[134.84511]]\n",
            "[[135.339]]\n",
            "[[135.44211]]\n",
            "[[135.46364]]\n",
            "[[135.46814]]\n",
            "[[135.46909]]\n",
            "[[135.46928]]\n",
            "[[135.4693]]\n",
            "[[135.46931]]\n",
            "[[135.46931]]\n",
            "[[135.46931]]\n",
            "[[135.46931]]\n",
            "[[135.46931]]\n",
            "[[135.46931]]\n",
            "[[135.46931]]\n",
            "[[135.46931]]\n",
            "[[135.46931]]\n",
            "[[135.46931]]\n",
            "[[135.46931]]\n",
            "[[135.46931]]\n",
            "[[135.46931]]\n",
            "[[135.46931]]\n",
            "[[135.46931]]\n",
            "[[135.46931]]\n",
            "[[135.46931]]\n",
            "[[135.46931]]\n",
            "[[135.46931]]\n",
            "[[135.46931]]\n",
            "[[135.46931]]\n",
            "[[135.46931]]\n",
            "[[135.46931]]\n",
            "[[135.46931]]\n",
            "[[135.46931]]\n",
            "[[135.46931]]\n",
            "[[135.46931]]\n",
            "[[135.46931]]\n",
            "[[135.46931]]\n",
            "[[135.46931]]\n",
            "[[135.46931]]\n"
          ],
          "name": "stdout"
        }
      ]
    }
  ]
}